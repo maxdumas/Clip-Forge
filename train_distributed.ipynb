{
 "cells": [
  {
   "cell_type": "code",
   "execution_count": 12,
   "metadata": {},
   "outputs": [],
   "source": [
    "from sagemaker.inputs import FileSystemInput\n",
    "\n",
    "subnets = [\"subnet-0160e760b20ce0ad6\"]  # Should be same as Subnet used for FSx. Example: subnet-01aXXXX\n",
    "security_group_ids = [\n",
    "    \"sg-0b2c3997c550d07b6\"\n",
    "]  # Should be same as Security group used for EFS. sg-075ZZZZZZ\n",
    "file_system_id = \"fs-0a9ebc472fa7d5342\"  # EFS file system ID with your training dataset. Example: 'fs-0bYYYYYY'\n",
    "\n",
    "file_system_directory_path = \"/\"\n",
    "file_system_access_mode = \"ro\"\n",
    "\n",
    "file_system_type = \"EFS\"\n",
    "\n",
    "train_fs = FileSystemInput(\n",
    "    file_system_id=file_system_id,\n",
    "    file_system_type=file_system_type,\n",
    "    directory_path=file_system_directory_path,\n",
    "    file_system_access_mode=file_system_access_mode,\n",
    ")"
   ]
  },
  {
   "cell_type": "code",
   "execution_count": 13,
   "metadata": {},
   "outputs": [],
   "source": [
    "import wandb\n",
    "wandb.login()\n",
    "settings = wandb.setup().settings\n",
    "current_api_key = wandb.wandb_lib.apikey.api_key(settings=settings)"
   ]
  },
  {
   "cell_type": "code",
   "execution_count": 14,
   "metadata": {},
   "outputs": [
    {
     "name": "stderr",
     "output_type": "stream",
     "text": [
      "INFO:botocore.credentials:Found credentials in shared credentials file: ~/.aws/credentials\n"
     ]
    }
   ],
   "source": [
    "import sagemaker\n",
    "import boto3\n",
    "boto3_session = boto3.Session(profile_name=\"cornell\")\n",
    "session = sagemaker.Session(boto_session=boto3_session)"
   ]
  },
  {
   "cell_type": "code",
   "execution_count": 15,
   "metadata": {},
   "outputs": [
    {
     "name": "stdout",
     "output_type": "stream",
     "text": [
      "Job name:  clip-forge-autoencoder\n"
     ]
    }
   ],
   "source": [
    "from sagemaker.pytorch import PyTorch\n",
    "\n",
    "# docker_image = \"763104351884.dkr.ecr.us-east-1.amazonaws.com/pytorch-training:1.13.1-gpu-py39-cu117-ubuntu20.04-sagemaker\"\n",
    "instance_type = \"ml.p3.2xlarge\"\n",
    "instance_count = 1\n",
    "# This job name is used as prefix to the sagemaker training job. Makes it easy for your look for your training job in SageMaker Training job console.\n",
    "job_name = \"clip-forge-autoencoder\"\n",
    "print(\"Job name: \", job_name)\n",
    "\n",
    "estimator = PyTorch(\n",
    "    base_job_name=job_name,\n",
    "    source_dir=\".\",\n",
    "    entry_point=\"train_autoencoder.py\",  #  the entry point that launches the training script with options\n",
    "    role=\"arn:aws:iam::870747888580:role/SageMakerTrainingRole\",\n",
    "    sagemaker_session=session,\n",
    "    framework_version=\"1.13.1\",\n",
    "    py_version=\"py39\",\n",
    "    instance_count=instance_count,\n",
    "    instance_type=instance_type,\n",
    "    # subnets=subnets,\n",
    "    # security_group_ids=security_group_ids,\n",
    "    debugger_hook_config=False,\n",
    "    # Training using SMDataParallel Distributed Training Framework\n",
    "    # distribution={\"smdistributed\": {\"dataparallel\": {\"enabled\": True}}},\n",
    "    environment={\"WANDB_API_KEY\": current_api_key},\n",
    "    input_mode=\"FastFile\",\n",
    ")"
   ]
  },
  {
   "cell_type": "code",
   "execution_count": 16,
   "metadata": {},
   "outputs": [
    {
     "name": "stderr",
     "output_type": "stream",
     "text": [
      "INFO:sagemaker.image_uris:image_uri is not presented, retrieving image_uri based on instance_type, framework etc.\n",
      "INFO:sagemaker:Creating training-job with name: clip-forge-autoencoder-2023-02-26-02-10-55-560\n"
     ]
    },
    {
     "name": "stdout",
     "output_type": "stream",
     "text": [
      "2023-02-26 02:11:17 Starting - Starting the training job...\n",
      "2023-02-26 02:11:42 Starting - Preparing the instances for training.........\n",
      "2023-02-26 02:12:52 Downloading - Downloading input data...............\n",
      "2023-02-26 02:15:32 Training - Downloading the training image............."
     ]
    }
   ],
   "source": [
    "# estimator.fit({ \"train\": train_fs })\n",
    "estimator.fit({ \"train\": \"s3://cornell-mfd64/text2building/shapenet\" })"
   ]
  }
 ],
 "metadata": {
  "kernelspec": {
   "display_name": "clip_forge",
   "language": "python",
   "name": "python3"
  },
  "language_info": {
   "codemirror_mode": {
    "name": "ipython",
    "version": 3
   },
   "file_extension": ".py",
   "mimetype": "text/x-python",
   "name": "python",
   "nbconvert_exporter": "python",
   "pygments_lexer": "ipython3",
   "version": "3.9.16"
  },
  "orig_nbformat": 4,
  "vscode": {
   "interpreter": {
    "hash": "2575ee6e25fe576c3805c81fc58d0a90030914b643ef32ba4677a1f0f04b82ee"
   }
  }
 },
 "nbformat": 4,
 "nbformat_minor": 2
}
